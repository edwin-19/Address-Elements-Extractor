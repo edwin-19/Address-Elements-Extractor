{
 "cells": [
  {
   "cell_type": "code",
   "execution_count": 22,
   "id": "lucky-limit",
   "metadata": {},
   "outputs": [],
   "source": [
    "from transformers import DistilBertForTokenClassification, DistilBertTokenizerFast\n",
    "\n",
    "import torch\n",
    "import torch.nn.functional as F\n",
    "import pandas as pd\n",
    "import numpy as np\n",
    "from sklearn.model_selection import train_test_split"
   ]
  },
  {
   "cell_type": "code",
   "execution_count": 4,
   "id": "exclusive-short",
   "metadata": {},
   "outputs": [],
   "source": [
    "if torch.cuda.is_available():\n",
    "    device = torch.device('cuda')\n",
    "else:\n",
    "    device = torch.device('cpu')"
   ]
  },
  {
   "cell_type": "code",
   "execution_count": 3,
   "id": "stable-intent",
   "metadata": {},
   "outputs": [],
   "source": [
    "model = DistilBertForTokenClassification.from_pretrained('weights/ner_distil_bert_indo')\n",
    "model.to(device)\n",
    "model.eval()\n",
    "\n",
    "tokenizer = DistilBertTokenizerFast.from_pretrained('cahya/distilbert-base-indonesian')"
   ]
  },
  {
   "cell_type": "code",
   "execution_count": 7,
   "id": "growing-parent",
   "metadata": {},
   "outputs": [],
   "source": [
    "df = pd.read_csv('data/formatted_train.csv')\n",
    "_, eval_df = train_test_split(df, test_size=0.2, random_state=2021)"
   ]
  },
  {
   "cell_type": "code",
   "execution_count": 9,
   "id": "pharmaceutical-uruguay",
   "metadata": {},
   "outputs": [],
   "source": [
    "def tokenize_text(text, max_length):\n",
    "    return tokenizer.encode_plus(\n",
    "        [text],\n",
    "        is_split_into_words=True,\n",
    "        add_special_tokens=True,\n",
    "        truncation=True,\n",
    "        max_length=max_length,\n",
    "        padding='max_length'\n",
    "    )"
   ]
  },
  {
   "cell_type": "code",
   "execution_count": 38,
   "id": "partial-feeding",
   "metadata": {},
   "outputs": [
    {
     "data": {
      "text/plain": [
       "text           pastori gereja baptis indonesia citarum\n",
       "label                                              POI\n",
       "text_length                                         39\n",
       "Name: 213502, dtype: object"
      ]
     },
     "execution_count": 38,
     "metadata": {},
     "output_type": "execute_result"
    }
   ],
   "source": [
    "eval_df.iloc[3]"
   ]
  },
  {
   "cell_type": "code",
   "execution_count": 39,
   "id": "respective-collectible",
   "metadata": {},
   "outputs": [],
   "source": [
    "inputs = tokenize_text(eval_df.text.iloc[3], 150)\n",
    "input_ids = torch.tensor(inputs['input_ids'], dtype=torch.long).to(device)\n",
    "attention_mask = torch.tensor(inputs['attention_mask'], dtype=torch.long).to(device)"
   ]
  },
  {
   "cell_type": "code",
   "execution_count": 40,
   "id": "olympic-salon",
   "metadata": {},
   "outputs": [],
   "source": [
    "with torch.no_grad():\n",
    "    outputs = model(input_ids.unsqueeze_(0), attention_mask=attention_mask.unsqueeze_(0))"
   ]
  },
  {
   "cell_type": "code",
   "execution_count": null,
   "id": "medieval-christian",
   "metadata": {},
   "outputs": [],
   "source": []
  }
 ],
 "metadata": {
  "kernelspec": {
   "display_name": "Python 3",
   "language": "python",
   "name": "python3"
  },
  "language_info": {
   "codemirror_mode": {
    "name": "ipython",
    "version": 3
   },
   "file_extension": ".py",
   "mimetype": "text/x-python",
   "name": "python",
   "nbconvert_exporter": "python",
   "pygments_lexer": "ipython3",
   "version": "3.8.8"
  }
 },
 "nbformat": 4,
 "nbformat_minor": 5
}
