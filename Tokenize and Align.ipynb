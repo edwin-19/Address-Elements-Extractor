{
 "cells": [
  {
   "cell_type": "code",
   "execution_count": null,
   "id": "vocational-tongue",
   "metadata": {},
   "outputs": [],
   "source": [
    "import pandas as pd\n",
    "from transformers import DistilBertTokenizer, DistilBertTokenizerFast"
   ]
  },
  {
   "cell_type": "code",
   "execution_count": null,
   "id": "wooden-recording",
   "metadata": {},
   "outputs": [],
   "source": [
    "df = pd.read_csv('data/formatted_train.csv')"
   ]
  },
  {
   "cell_type": "code",
   "execution_count": null,
   "id": "included-border",
   "metadata": {},
   "outputs": [],
   "source": [
    "tokenizer = DistilBertTokenizerFast.from_pretrained('cahya/distilbert-base-indonesian')"
   ]
  },
  {
   "cell_type": "code",
   "execution_count": null,
   "id": "molecular-factor",
   "metadata": {},
   "outputs": [],
   "source": [
    "df['tokens'] = df['tokens'].apply(lambda x: eval(x))\n",
    "df['ner_tags'] = df['ner_tags'].apply(lambda x: eval(x))"
   ]
  },
  {
   "cell_type": "code",
   "execution_count": null,
   "id": "amazing-style",
   "metadata": {},
   "outputs": [],
   "source": [
    "selected = df.iloc[10]"
   ]
  },
  {
   "cell_type": "code",
   "execution_count": null,
   "id": "thick-organizer",
   "metadata": {},
   "outputs": [],
   "source": [
    "def tokenize_and_align_labels(text, target):\n",
    "    tokenized_input = tokenizer(\n",
    "        text, is_split_into_words=True,\n",
    "        add_special_tokens=True, truncation=True, max_length=150,\n",
    "        padding='max_length'\n",
    "    )\n",
    "\n",
    "    labels = []\n",
    "    targets = ['B-STR', 'I-STR', 'B-POI', 'I-POI', 'O']\n",
    "    tags = dict(zip(targets, range(len(targets))))\n",
    "    word_ids = tokenized_input.word_ids()\n",
    "    for word_idx in word_ids:\n",
    "        if word_idx is None:\n",
    "            labels.append(-100)\n",
    "        else:\n",
    "            labels.append(tags[target[word_idx]])\n",
    "\n",
    "    tokenized_input['labels'] = labels\n",
    "    \n",
    "    return tokenized_input"
   ]
  },
  {
   "cell_type": "code",
   "execution_count": null,
   "id": "amazing-dialogue",
   "metadata": {},
   "outputs": [],
   "source": [
    "tokenize_and_align_labels(selected['tokens'], selected['ner_tags'])"
   ]
  }
 ],
 "metadata": {
  "kernelspec": {
   "display_name": "Python 3",
   "language": "python",
   "name": "python3"
  },
  "language_info": {
   "codemirror_mode": {
    "name": "ipython",
    "version": 3
   },
   "file_extension": ".py",
   "mimetype": "text/x-python",
   "name": "python",
   "nbconvert_exporter": "python",
   "pygments_lexer": "ipython3",
   "version": "3.8.8"
  }
 },
 "nbformat": 4,
 "nbformat_minor": 5
}
