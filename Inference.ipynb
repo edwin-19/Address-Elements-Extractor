{
 "cells": [
  {
   "cell_type": "code",
   "execution_count": 1,
   "id": "detailed-navigation",
   "metadata": {},
   "outputs": [],
   "source": [
    "from transformers import DistilBertForTokenClassification, DistilBertTokenizerFast\n",
    "\n",
    "import torch\n",
    "import torch.nn as nn\n",
    "import pandas as pd\n",
    "import numpy as np\n",
    "from sklearn.model_selection import train_test_split\n",
    "from sklearn.metrics import classification_report"
   ]
  },
  {
   "cell_type": "code",
   "execution_count": 2,
   "id": "lyric-grass",
   "metadata": {},
   "outputs": [],
   "source": [
    "def tokenize_text(text, max_length):\n",
    "    return tokenizer.encode_plus(\n",
    "        [text],\n",
    "        is_split_into_words=True,\n",
    "        add_special_tokens=True,\n",
    "        truncation=True,\n",
    "        max_length=max_length,\n",
    "        padding='max_length'\n",
    "    )"
   ]
  },
  {
   "cell_type": "code",
   "execution_count": 3,
   "id": "uniform-addiction",
   "metadata": {},
   "outputs": [],
   "source": [
    "if torch.cuda.is_available():\n",
    "    device = torch.device('cuda')\n",
    "else:\n",
    "    device = torch.device('cpu')"
   ]
  },
  {
   "cell_type": "code",
   "execution_count": 5,
   "id": "corresponding-brooklyn",
   "metadata": {},
   "outputs": [],
   "source": [
    "class IndoDistilBertExtractor(nn.Module):\n",
    "    def __init__(self):\n",
    "        super(IndoDistilBertExtractor, self).__init__()\n",
    "        self.encoder = DistilBertModel.from_pretrained('cahya/distilbert-base-indonesian')\n",
    "        self.dropout = nn.Dropout(0.3)\n",
    "        self.classifier = nn.Linear(768, 5)\n",
    "        \n",
    "    def forward(self, ids, attn_mask):\n",
    "        outputs = self.encoder(ids, attention_mask=attn_mask)\n",
    "        outputs = self.dropout(outputs[0])\n",
    "        outputs = self.classifier(outputs)\n",
    "        \n",
    "        return outputs"
   ]
  },
  {
   "cell_type": "code",
   "execution_count": 7,
   "id": "brilliant-leonard",
   "metadata": {},
   "outputs": [],
   "source": [
    "model = torch.load('weights/ner_distil_indo.pt')\n",
    "model.to(device)\n",
    "model.eval()\n",
    "\n",
    "tokenizer = DistilBertTokenizerFast.from_pretrained('cahya/distilbert-base-indonesian')"
   ]
  },
  {
   "cell_type": "code",
   "execution_count": 8,
   "id": "supported-adelaide",
   "metadata": {},
   "outputs": [],
   "source": [
    "df = pd.read_csv('data/test.csv')\n",
    "targets = ['B-STR', 'I-STR', 'B-POI', 'I-POI', 'O']\n",
    "tags = dict(zip(range(len(targets)), targets))"
   ]
  },
  {
   "cell_type": "code",
   "execution_count": 10,
   "id": "steady-liver",
   "metadata": {},
   "outputs": [],
   "source": [
    "submission = []\n",
    "for index, data in df.iterrows():\n",
    "    steet_tokens = []\n",
    "    poi_tokens = []\n",
    "    \n",
    "    text = data['raw_address']\n",
    "    tokens = text.split(' ')\n",
    "    tokenized_text = tokenize_text(text, 100)\n",
    "    input_ids, attn_mask = tokenized_text['input_ids'], tokenized_text['attention_mask']\n",
    "    input_ids = torch.tensor(input_ids, dtype=torch.long).to(device).unsqueeze_(0)\n",
    "    attn_mask = torch.tensor(attn_mask, dtype=torch.long).to(device).unsqueeze_(0)\n",
    "    \n",
    "    # run inference \n",
    "    with torch.no_grad():\n",
    "        outputs = model(input_ids, attn_mask)\n",
    "        \n",
    "    logits = outputs.view(-1, 5)\n",
    "    preds = logits.detach().cpu().numpy()\n",
    "    preds = preds.argmax(axis=1)\n",
    "    results = []\n",
    "    for index, token in enumerate(tokens):\n",
    "        results.append(tags[preds[index]])\n",
    "    \n",
    "    for index, result in enumerate(results):\n",
    "        if 'STR' in result:\n",
    "            steet_tokens.append(tokens[index])\n",
    "\n",
    "        if 'POI' in result:\n",
    "            poi_tokens.append(tokens[index])\n",
    "            \n",
    "    submission.append({'POI/street': '{}/{}'.format(' '.join(poi_tokens), ' '.join(steet_tokens))})"
   ]
  },
  {
   "cell_type": "code",
   "execution_count": 11,
   "id": "south-template",
   "metadata": {},
   "outputs": [],
   "source": [
    "submit_df = pd.DataFrame(submission)"
   ]
  },
  {
   "cell_type": "code",
   "execution_count": 12,
   "id": "closed-guide",
   "metadata": {},
   "outputs": [],
   "source": [
    "submit_df = submit_df.reset_index()\n",
    "submit_df.columns = ['id', 'POI/street']"
   ]
  },
  {
   "cell_type": "code",
   "execution_count": 14,
   "id": "empty-secretariat",
   "metadata": {},
   "outputs": [],
   "source": [
    "submit_df.to_csv('output/submmission.csv', index=False)"
   ]
  }
 ],
 "metadata": {
  "kernelspec": {
   "display_name": "Python 3",
   "language": "python",
   "name": "python3"
  },
  "language_info": {
   "codemirror_mode": {
    "name": "ipython",
    "version": 3
   },
   "file_extension": ".py",
   "mimetype": "text/x-python",
   "name": "python",
   "nbconvert_exporter": "python",
   "pygments_lexer": "ipython3",
   "version": "3.8.8"
  }
 },
 "nbformat": 4,
 "nbformat_minor": 5
}
