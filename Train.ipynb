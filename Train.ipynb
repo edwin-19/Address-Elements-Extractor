{
 "cells": [
  {
   "cell_type": "code",
   "execution_count": 1,
   "id": "rubber-siemens",
   "metadata": {},
   "outputs": [],
   "source": [
    "import pandas as pd\n",
    "from transformers import DistilBertForTokenClassification, DistilBertTokenizerFast, DistilBertModel\n",
    "from transformers import get_linear_schedule_with_warmup, AdamW\n",
    "\n",
    "import torch.nn.functional as F\n",
    "import torch\n",
    "import torch.nn as nn\n",
    "\n",
    "from torch.utils.data import Dataset, DataLoader, RandomSampler, SequentialSampler\n",
    "import torchsummary\n",
    "\n",
    "from sklearn.model_selection import train_test_split\n",
    "from sklearn.metrics import classification_report, confusion_matrix\n",
    "from tqdm.notebook import tqdm\n",
    "import random\n",
    "import numpy as np\n",
    "import time\n",
    "from matplotlib import pyplot as plt"
   ]
  },
  {
   "cell_type": "code",
   "execution_count": 2,
   "id": "romance-consumption",
   "metadata": {},
   "outputs": [],
   "source": [
    "# Hyperparams\n",
    "max_length = 100\n",
    "batch_size = 64\n",
    "learning_rate = 2e-05\n",
    "epochs = 10"
   ]
  },
  {
   "cell_type": "code",
   "execution_count": 3,
   "id": "helpful-arrest",
   "metadata": {},
   "outputs": [],
   "source": [
    "if torch.cuda.is_available():\n",
    "    device = torch.device('cuda')\n",
    "else:\n",
    "    device = torch.device('cpu')"
   ]
  },
  {
   "cell_type": "code",
   "execution_count": 4,
   "id": "posted-scottish",
   "metadata": {},
   "outputs": [],
   "source": [
    "seed_val=42\n",
    "random.seed(seed_val)\n",
    "np.random.seed(seed_val)\n",
    "torch.manual_seed(seed_val)\n",
    "torch.cuda.manual_seed_all(seed_val)"
   ]
  },
  {
   "cell_type": "markdown",
   "id": "proud-relationship",
   "metadata": {},
   "source": [
    "# Prepare data"
   ]
  },
  {
   "cell_type": "code",
   "execution_count": 5,
   "id": "headed-certificate",
   "metadata": {},
   "outputs": [],
   "source": [
    "class AddressDataset(Dataset):\n",
    "    def __init__(self, tokenizer, sentences, targets, max_len):\n",
    "        self.tokenizer = tokenizer\n",
    "        self.sentences = sentences\n",
    "        self.targets = targets\n",
    "        self.max_len = max_len\n",
    "        targets = ['B-STR', 'I-STR', 'B-POI', 'I-POI', 'O']\n",
    "        self.tags = dict(zip(targets, range(len(targets))))\n",
    "        \n",
    "    def __len__(self):\n",
    "        return len(self.sentences)\n",
    "    \n",
    "    def __getitem__(self, index):\n",
    "        text_data = self.sentences[index]\n",
    "        tokenized_inputs = self.tokenizer(\n",
    "            text_data, is_split_into_words=True,\n",
    "            add_special_tokens=True, truncation=True, \n",
    "            max_length=self.max_len, padding='max_length'\n",
    "        )\n",
    "        \n",
    "        tokenized_inputs = self.align_labels(tokenized_inputs, self.targets[index])\n",
    "        \n",
    "        return {\n",
    "            'ids': torch.tensor(tokenized_inputs['input_ids'], dtype=torch.long),\n",
    "            'mask': torch.tensor(tokenized_inputs['attention_mask'], dtype=torch.long),\n",
    "            'targets': torch.tensor(tokenized_inputs['labels'], dtype=torch.long)\n",
    "        }\n",
    "    \n",
    "    def align_labels(self, tokenized_input, target):\n",
    "        labels = []\n",
    "        word_ids = tokenized_input.word_ids()\n",
    "        \n",
    "        for word_idx in word_ids:\n",
    "            if word_idx is None:\n",
    "                labels.append(-100)\n",
    "            else:\n",
    "                labels.append(self.tags[target[word_idx]])\n",
    "\n",
    "        tokenized_input['labels'] = labels\n",
    "        \n",
    "        return tokenized_input"
   ]
  },
  {
   "cell_type": "code",
   "execution_count": 6,
   "id": "numerical-lyric",
   "metadata": {},
   "outputs": [],
   "source": [
    "# Define basics\n",
    "tokenizer = DistilBertTokenizerFast.from_pretrained('cahya/distilbert-base-indonesian')"
   ]
  },
  {
   "cell_type": "code",
   "execution_count": 7,
   "id": "instrumental-hopkins",
   "metadata": {},
   "outputs": [],
   "source": [
    "df = pd.read_csv('data/formatted_train.csv')\n",
    "df['tokens'] = df['tokens'].apply(lambda x: eval(x))\n",
    "df['ner_tags'] = df['ner_tags'].apply(lambda x: eval(x))\n",
    "\n",
    "train_df, eval_df = train_test_split(df, test_size=0.2, random_state=2021)"
   ]
  },
  {
   "cell_type": "code",
   "execution_count": 8,
   "id": "classified-service",
   "metadata": {},
   "outputs": [],
   "source": [
    "train_data = AddressDataset(tokenizer, train_df.tokens.values, train_df.ner_tags.values, max_length)\n",
    "eval_data = AddressDataset(tokenizer, eval_df.tokens.values, eval_df.ner_tags.values, max_length)"
   ]
  },
  {
   "cell_type": "code",
   "execution_count": 9,
   "id": "great-music",
   "metadata": {},
   "outputs": [],
   "source": [
    "train_sampler = RandomSampler(train_data)\n",
    "train_dataloader = DataLoader(train_data, sampler=train_sampler, batch_size=batch_size)\n",
    "\n",
    "eval_sampler = SequentialSampler(eval_data)\n",
    "eval_dataloader = DataLoader(eval_data, sampler=eval_sampler, batch_size=batch_size)"
   ]
  },
  {
   "cell_type": "markdown",
   "id": "functioning-titanium",
   "metadata": {},
   "source": [
    "# Prepare model"
   ]
  },
  {
   "cell_type": "code",
   "execution_count": 10,
   "id": "grand-postcard",
   "metadata": {},
   "outputs": [],
   "source": [
    "class IndoDistilBertExtractor(nn.Module):\n",
    "    def __init__(self):\n",
    "        super(IndoDistilBertExtractor, self).__init__()\n",
    "        self.encoder = DistilBertModel.from_pretrained('cahya/distilbert-base-indonesian')\n",
    "        self.dropout = nn.Dropout(0.3)\n",
    "        self.classifier = nn.Linear(768, 5)\n",
    "        \n",
    "    def forward(self, ids, attn_mask):\n",
    "        outputs = self.encoder(ids, attention_mask=attn_mask)\n",
    "        outputs = self.dropout(outputs[0])\n",
    "        outputs = self.classifier(outputs)\n",
    "        \n",
    "        return outputs"
   ]
  },
  {
   "cell_type": "code",
   "execution_count": 11,
   "id": "beneficial-contractor",
   "metadata": {},
   "outputs": [
    {
     "name": "stdout",
     "output_type": "stream",
     "text": [
      "The BERT model has 102 different named parameters.\n",
      "\n",
      "==== Embedding Layer ====\n",
      "\n",
      "encoder.embeddings.word_embeddings.weight               (32000, 768)\n",
      "encoder.embeddings.position_embeddings.weight             (512, 768)\n",
      "encoder.embeddings.LayerNorm.weight                           (768,)\n",
      "encoder.embeddings.LayerNorm.bias                             (768,)\n",
      "encoder.transformer.layer.0.attention.q_lin.weight        (768, 768)\n",
      "\n",
      "==== First Transformer ====\n",
      "\n",
      "encoder.transformer.layer.0.attention.q_lin.bias              (768,)\n",
      "encoder.transformer.layer.0.attention.k_lin.weight        (768, 768)\n",
      "encoder.transformer.layer.0.attention.k_lin.bias              (768,)\n",
      "encoder.transformer.layer.0.attention.v_lin.weight        (768, 768)\n",
      "encoder.transformer.layer.0.attention.v_lin.bias              (768,)\n",
      "encoder.transformer.layer.0.attention.out_lin.weight      (768, 768)\n",
      "encoder.transformer.layer.0.attention.out_lin.bias            (768,)\n",
      "encoder.transformer.layer.0.sa_layer_norm.weight              (768,)\n",
      "encoder.transformer.layer.0.sa_layer_norm.bias                (768,)\n",
      "encoder.transformer.layer.0.ffn.lin1.weight              (3072, 768)\n",
      "encoder.transformer.layer.0.ffn.lin1.bias                    (3072,)\n",
      "encoder.transformer.layer.0.ffn.lin2.weight              (768, 3072)\n",
      "encoder.transformer.layer.0.ffn.lin2.bias                     (768,)\n",
      "encoder.transformer.layer.0.output_layer_norm.weight          (768,)\n",
      "encoder.transformer.layer.0.output_layer_norm.bias            (768,)\n",
      "encoder.transformer.layer.1.attention.q_lin.weight        (768, 768)\n",
      "\n",
      "==== Output Layer ====\n",
      "\n",
      "encoder.transformer.layer.5.output_layer_norm.weight          (768,)\n",
      "encoder.transformer.layer.5.output_layer_norm.bias            (768,)\n",
      "classifier.weight                                           (5, 768)\n",
      "classifier.bias                                                 (5,)\n"
     ]
    }
   ],
   "source": [
    "model = IndoDistilBertExtractor()\n",
    "model.to(device)\n",
    "\n",
    "# Get all of the model's parameters as a list of tuples.\n",
    "params = list(model.named_parameters())\n",
    "\n",
    "print('The BERT model has {:} different named parameters.\\n'.format(len(params)))\n",
    "\n",
    "print('==== Embedding Layer ====\\n')\n",
    "\n",
    "for p in params[0:5]:\n",
    "    print(\"{:<55} {:>12}\".format(p[0], str(tuple(p[1].size()))))\n",
    "\n",
    "print('\\n==== First Transformer ====\\n')\n",
    "\n",
    "for p in params[5:21]:\n",
    "    print(\"{:<55} {:>12}\".format(p[0], str(tuple(p[1].size()))))\n",
    "\n",
    "print('\\n==== Output Layer ====\\n')\n",
    "\n",
    "for p in params[-4:]:\n",
    "    print(\"{:<55} {:>12}\".format(p[0], str(tuple(p[1].size()))))"
   ]
  },
  {
   "cell_type": "markdown",
   "id": "expressed-hepatitis",
   "metadata": {},
   "source": [
    "# Training"
   ]
  },
  {
   "cell_type": "code",
   "execution_count": 12,
   "id": "toxic-sapphire",
   "metadata": {},
   "outputs": [],
   "source": [
    "# Create custom focal loss that inherits cross entropy loss\n",
    "class FocalLoss(nn.CrossEntropyLoss):\n",
    "    def __init__(self, gamma, alpha=None, ignore_index=-100, reduction='none'):\n",
    "        super().__init__(weight=alpha, ignore_index=ignore_index, reduction='none')\n",
    "        self.reduction = reduction\n",
    "        self.gamma = gamma\n",
    "        \n",
    "    def forward(self, input_, target):\n",
    "        cross_entropy = super().forward(input_, target)\n",
    "        # Temporarily mask out ignore index to '0' for valid gather-indices input.\n",
    "        # This won't contribute final loss as the cross_entropy contribution\n",
    "        # for these would be zero.\n",
    "        target = target * (target != self.ignore_index).long()\n",
    "        input_prob = torch.gather(F.softmax(input_, 1), 1, target.unsqueeze(1))\n",
    "        loss = torch.pow(1 - input_prob, self.gamma) * cross_entropy\n",
    "        return torch.mean(loss) if self.reduction == 'mean' else torch.sum(loss) if self.reduction == 'sum' else loss"
   ]
  },
  {
   "cell_type": "code",
   "execution_count": 13,
   "id": "suburban-blues",
   "metadata": {},
   "outputs": [],
   "source": [
    "optimizer = AdamW(params=model.parameters(), lr=learning_rate, eps=1e-8)\n",
    "criterion = FocalLoss(gamma=2, reduction='mean')\n",
    "# criterion = nn.CrossEntropyLoss()"
   ]
  },
  {
   "cell_type": "code",
   "execution_count": 14,
   "id": "nearby-federation",
   "metadata": {},
   "outputs": [],
   "source": [
    "total_steps = len(train_dataloader) * epochs\n",
    "scheduler = get_linear_schedule_with_warmup(\n",
    "    optimizer, num_warmup_steps=0, num_training_steps=total_steps\n",
    ")"
   ]
  },
  {
   "cell_type": "code",
   "execution_count": 15,
   "id": "deadly-depth",
   "metadata": {
    "scrolled": false
   },
   "outputs": [
    {
     "data": {
      "application/vnd.jupyter.widget-view+json": {
       "model_id": "0d21475f011742f6bc59c865541ee460",
       "version_major": 2,
       "version_minor": 0
      },
      "text/plain": [
       "HBox(children=(FloatProgress(value=0.0, max=10.0), HTML(value='')))"
      ]
     },
     "metadata": {},
     "output_type": "display_data"
    },
    {
     "name": "stdout",
     "output_type": "stream",
     "text": [
      "Training...\n"
     ]
    },
    {
     "data": {
      "application/vnd.jupyter.widget-view+json": {
       "model_id": "f53016fe49124560a8cbe5c128d4a1f9",
       "version_major": 2,
       "version_minor": 0
      },
      "text/plain": [
       "HBox(children=(FloatProgress(value=0.0, max=3750.0), HTML(value='')))"
      ]
     },
     "metadata": {},
     "output_type": "display_data"
    },
    {
     "name": "stdout",
     "output_type": "stream",
     "text": [
      "\n",
      "\n",
      "  Average training loss: 0.007\n",
      "  Average training acc: 0.079\n",
      "\n",
      "Running Validation\n"
     ]
    },
    {
     "data": {
      "application/vnd.jupyter.widget-view+json": {
       "model_id": "afb331595a7c4ee38f2c4a58cbb1a06a",
       "version_major": 2,
       "version_minor": 0
      },
      "text/plain": [
       "HBox(children=(FloatProgress(value=0.0, max=938.0), HTML(value='')))"
      ]
     },
     "metadata": {},
     "output_type": "display_data"
    },
    {
     "name": "stdout",
     "output_type": "stream",
     "text": [
      "\n",
      "Validation loss: 0.0035935913177598307\n",
      "Validation Accuracy: 0.08245502398720687\n",
      "Training...\n"
     ]
    },
    {
     "data": {
      "application/vnd.jupyter.widget-view+json": {
       "model_id": "db1426273f98437cb26c4cbdaa6ec40a",
       "version_major": 2,
       "version_minor": 0
      },
      "text/plain": [
       "HBox(children=(FloatProgress(value=0.0, max=3750.0), HTML(value='')))"
      ]
     },
     "metadata": {},
     "output_type": "display_data"
    },
    {
     "name": "stdout",
     "output_type": "stream",
     "text": [
      "\n",
      "\n",
      "  Average training loss: 0.003\n",
      "  Average training acc: 0.083\n",
      "\n",
      "Running Validation\n"
     ]
    },
    {
     "data": {
      "application/vnd.jupyter.widget-view+json": {
       "model_id": "87bc350b69e94477abd5b92f312cc8ec",
       "version_major": 2,
       "version_minor": 0
      },
      "text/plain": [
       "HBox(children=(FloatProgress(value=0.0, max=938.0), HTML(value='')))"
      ]
     },
     "metadata": {},
     "output_type": "display_data"
    },
    {
     "name": "stdout",
     "output_type": "stream",
     "text": [
      "\n",
      "Validation loss: 0.0028927575621599043\n",
      "Validation Accuracy: 0.08382012926439238\n",
      "Training...\n"
     ]
    },
    {
     "data": {
      "application/vnd.jupyter.widget-view+json": {
       "model_id": "4c3b76e603e94748973354b8d4620a83",
       "version_major": 2,
       "version_minor": 0
      },
      "text/plain": [
       "HBox(children=(FloatProgress(value=0.0, max=3750.0), HTML(value='')))"
      ]
     },
     "metadata": {},
     "output_type": "display_data"
    },
    {
     "name": "stdout",
     "output_type": "stream",
     "text": [
      "\n",
      "\n",
      "  Average training loss: 0.002\n",
      "  Average training acc: 0.085\n",
      "\n",
      "Running Validation\n"
     ]
    },
    {
     "data": {
      "application/vnd.jupyter.widget-view+json": {
       "model_id": "0c8823816b984d4fae2b2b5d0a9d3161",
       "version_major": 2,
       "version_minor": 0
      },
      "text/plain": [
       "HBox(children=(FloatProgress(value=0.0, max=938.0), HTML(value='')))"
      ]
     },
     "metadata": {},
     "output_type": "display_data"
    },
    {
     "name": "stdout",
     "output_type": "stream",
     "text": [
      "\n",
      "Validation loss: 0.0026893350298204687\n",
      "Validation Accuracy: 0.08427022254797442\n",
      "Training...\n"
     ]
    },
    {
     "data": {
      "application/vnd.jupyter.widget-view+json": {
       "model_id": "2873ac42ccaf4d478c0ada46fe6b1f39",
       "version_major": 2,
       "version_minor": 0
      },
      "text/plain": [
       "HBox(children=(FloatProgress(value=0.0, max=3750.0), HTML(value='')))"
      ]
     },
     "metadata": {},
     "output_type": "display_data"
    },
    {
     "name": "stdout",
     "output_type": "stream",
     "text": [
      "\n",
      "\n",
      "  Average training loss: 0.002\n",
      "  Average training acc: 0.086\n",
      "\n",
      "Running Validation\n"
     ]
    },
    {
     "data": {
      "application/vnd.jupyter.widget-view+json": {
       "model_id": "5018412c76634e889fc2b5da85f47c8c",
       "version_major": 2,
       "version_minor": 0
      },
      "text/plain": [
       "HBox(children=(FloatProgress(value=0.0, max=938.0), HTML(value='')))"
      ]
     },
     "metadata": {},
     "output_type": "display_data"
    },
    {
     "name": "stdout",
     "output_type": "stream",
     "text": [
      "\n",
      "Validation loss: 0.0026360825595901664\n",
      "Validation Accuracy: 0.08449576892324098\n",
      "Training...\n"
     ]
    },
    {
     "data": {
      "application/vnd.jupyter.widget-view+json": {
       "model_id": "7fbf5f0498f442a3a5ac8d33d0118b0f",
       "version_major": 2,
       "version_minor": 0
      },
      "text/plain": [
       "HBox(children=(FloatProgress(value=0.0, max=3750.0), HTML(value='')))"
      ]
     },
     "metadata": {},
     "output_type": "display_data"
    },
    {
     "name": "stdout",
     "output_type": "stream",
     "text": [
      "\n",
      "\n",
      "  Average training loss: 0.002\n",
      "  Average training acc: 0.087\n",
      "\n",
      "Running Validation\n"
     ]
    },
    {
     "data": {
      "application/vnd.jupyter.widget-view+json": {
       "model_id": "e4d628d5881f4ff2a3f49096d569ecd2",
       "version_major": 2,
       "version_minor": 0
      },
      "text/plain": [
       "HBox(children=(FloatProgress(value=0.0, max=938.0), HTML(value='')))"
      ]
     },
     "metadata": {},
     "output_type": "display_data"
    },
    {
     "name": "stdout",
     "output_type": "stream",
     "text": [
      "\n",
      "Validation loss: 0.0026357125213269444\n",
      "Validation Accuracy: 0.08465185234541586\n",
      "Training...\n"
     ]
    },
    {
     "data": {
      "application/vnd.jupyter.widget-view+json": {
       "model_id": "d532c8e15ddb486287fdc91776515e8f",
       "version_major": 2,
       "version_minor": 0
      },
      "text/plain": [
       "HBox(children=(FloatProgress(value=0.0, max=3750.0), HTML(value='')))"
      ]
     },
     "metadata": {},
     "output_type": "display_data"
    },
    {
     "name": "stdout",
     "output_type": "stream",
     "text": [
      "\n",
      "\n",
      "  Average training loss: 0.001\n",
      "  Average training acc: 0.087\n",
      "\n",
      "Running Validation\n"
     ]
    },
    {
     "data": {
      "application/vnd.jupyter.widget-view+json": {
       "model_id": "00f448ffb54649b1b6451296894a55fd",
       "version_major": 2,
       "version_minor": 0
      },
      "text/plain": [
       "HBox(children=(FloatProgress(value=0.0, max=938.0), HTML(value='')))"
      ]
     },
     "metadata": {},
     "output_type": "display_data"
    },
    {
     "name": "stdout",
     "output_type": "stream",
     "text": [
      "\n",
      "Validation loss: 0.0027268735426867795\n",
      "Validation Accuracy: 0.08468133662046906\n",
      "Training...\n"
     ]
    },
    {
     "data": {
      "application/vnd.jupyter.widget-view+json": {
       "model_id": "e20a718032234ede9e3fa28cf57b1b9b",
       "version_major": 2,
       "version_minor": 0
      },
      "text/plain": [
       "HBox(children=(FloatProgress(value=0.0, max=3750.0), HTML(value='')))"
      ]
     },
     "metadata": {},
     "output_type": "display_data"
    },
    {
     "name": "stdout",
     "output_type": "stream",
     "text": [
      "\n",
      "\n",
      "  Average training loss: 0.001\n",
      "  Average training acc: 0.088\n",
      "\n",
      "Running Validation\n"
     ]
    },
    {
     "data": {
      "application/vnd.jupyter.widget-view+json": {
       "model_id": "ae7d9d30d4e84dc7bdd96b08d2f0610d",
       "version_major": 2,
       "version_minor": 0
      },
      "text/plain": [
       "HBox(children=(FloatProgress(value=0.0, max=938.0), HTML(value='')))"
      ]
     },
     "metadata": {},
     "output_type": "display_data"
    },
    {
     "name": "stdout",
     "output_type": "stream",
     "text": [
      "\n",
      "Validation loss: 0.0028061218071554696\n",
      "Validation Accuracy: 0.08471115405117276\n",
      "Training...\n"
     ]
    },
    {
     "data": {
      "application/vnd.jupyter.widget-view+json": {
       "model_id": "6730a2ccc54e4054853951feb6b3fa1a",
       "version_major": 2,
       "version_minor": 0
      },
      "text/plain": [
       "HBox(children=(FloatProgress(value=0.0, max=3750.0), HTML(value='')))"
      ]
     },
     "metadata": {},
     "output_type": "display_data"
    },
    {
     "name": "stdout",
     "output_type": "stream",
     "text": [
      "\n",
      "\n",
      "  Average training loss: 0.001\n",
      "  Average training acc: 0.088\n",
      "\n",
      "Running Validation\n"
     ]
    },
    {
     "data": {
      "application/vnd.jupyter.widget-view+json": {
       "model_id": "f76f7cbb6ca94c57ab4992b8e3be8ad2",
       "version_major": 2,
       "version_minor": 0
      },
      "text/plain": [
       "HBox(children=(FloatProgress(value=0.0, max=938.0), HTML(value='')))"
      ]
     },
     "metadata": {},
     "output_type": "display_data"
    },
    {
     "name": "stdout",
     "output_type": "stream",
     "text": [
      "\n",
      "Validation loss: 0.002922245210054259\n",
      "Validation Accuracy: 0.0846450226545842\n",
      "Training...\n"
     ]
    },
    {
     "data": {
      "application/vnd.jupyter.widget-view+json": {
       "model_id": "b2e606b7bb0f4876ba18f86eec4d8382",
       "version_major": 2,
       "version_minor": 0
      },
      "text/plain": [
       "HBox(children=(FloatProgress(value=0.0, max=3750.0), HTML(value='')))"
      ]
     },
     "metadata": {},
     "output_type": "display_data"
    },
    {
     "name": "stdout",
     "output_type": "stream",
     "text": [
      "\n",
      "\n",
      "  Average training loss: 0.001\n",
      "  Average training acc: 0.089\n",
      "\n",
      "Running Validation\n"
     ]
    },
    {
     "data": {
      "application/vnd.jupyter.widget-view+json": {
       "model_id": "0a0cbe1abbc04f76980f85b3e4955bbf",
       "version_major": 2,
       "version_minor": 0
      },
      "text/plain": [
       "HBox(children=(FloatProgress(value=0.0, max=938.0), HTML(value='')))"
      ]
     },
     "metadata": {},
     "output_type": "display_data"
    },
    {
     "name": "stdout",
     "output_type": "stream",
     "text": [
      "\n",
      "Validation loss: 0.003006193226098822\n",
      "Validation Accuracy: 0.08467217484008535\n",
      "Training...\n"
     ]
    },
    {
     "data": {
      "application/vnd.jupyter.widget-view+json": {
       "model_id": "29e8e2d254d647c6ac1c43e46a99f49e",
       "version_major": 2,
       "version_minor": 0
      },
      "text/plain": [
       "HBox(children=(FloatProgress(value=0.0, max=3750.0), HTML(value='')))"
      ]
     },
     "metadata": {},
     "output_type": "display_data"
    },
    {
     "name": "stdout",
     "output_type": "stream",
     "text": [
      "\n",
      "\n",
      "  Average training loss: 0.001\n",
      "  Average training acc: 0.089\n",
      "\n",
      "Running Validation\n"
     ]
    },
    {
     "data": {
      "application/vnd.jupyter.widget-view+json": {
       "model_id": "2ac207e3ef37448dbc218bfd1ad74df7",
       "version_major": 2,
       "version_minor": 0
      },
      "text/plain": [
       "HBox(children=(FloatProgress(value=0.0, max=938.0), HTML(value='')))"
      ]
     },
     "metadata": {},
     "output_type": "display_data"
    },
    {
     "name": "stdout",
     "output_type": "stream",
     "text": [
      "\n",
      "Validation loss: 0.003032464066335161\n",
      "Validation Accuracy: 0.08464369003198284\n",
      "\n"
     ]
    }
   ],
   "source": [
    "loss_values = []\n",
    "train_acc = []\n",
    "\n",
    "eval_loss_vals = []\n",
    "eval_acc_vals = []\n",
    "\n",
    "for epoch_i in tqdm(range(epochs)):\n",
    "    print('Training...')\n",
    "    \n",
    "    t0 = time.time()\n",
    "    total_loss = 0\n",
    "    total_accuracy = 0\n",
    "    \n",
    "    # set model to train mode\n",
    "    model.train()\n",
    "    \n",
    "    for index, batch in tqdm(enumerate(train_dataloader),total=len(train_dataloader)):\n",
    "        input_ids = batch['ids'].to(device)\n",
    "        attn_mask = batch['mask'].to(device)\n",
    "        labels = batch['targets'].to(device)\n",
    "        \n",
    "        model.zero_grad()\n",
    "        outputs = model(input_ids, attn_mask)\n",
    "        \n",
    "        active_loss = attn_mask.view(-1) == 1\n",
    "        active_logits = outputs.view(-1, 5)\n",
    "        active_labels = torch.where(active_loss, labels.view(-1), torch.tensor(criterion.ignore_index).type_as(labels))\n",
    "        \n",
    "        loss = criterion(active_logits, active_labels)\n",
    "        total_loss += loss.item()\n",
    "        \n",
    "        loss.backward()\n",
    "        \n",
    "        torch.nn.utils.clip_grad_norm_(model.parameters(), 1.0)\n",
    "        optimizer.step()\n",
    "        scheduler.step()\n",
    "        \n",
    "        active_logits = active_logits.detach().cpu().numpy()\n",
    "        active_labels = active_labels.detach().cpu().numpy()\n",
    "        \n",
    "        total_accuracy += (active_logits.argmax(axis=1) == active_labels).sum() / len(active_labels)\n",
    "    \n",
    "    avg_train_loss = total_loss / len(train_dataloader)\n",
    "    avg_train_acc = total_accuracy / len(train_dataloader)\n",
    "    \n",
    "    loss_values.append(avg_train_loss)\n",
    "    train_acc.append(avg_train_acc)\n",
    "    \n",
    "    print(\"\")\n",
    "    print(\"  Average training loss: {0:.3f}\".format(avg_train_loss))\n",
    "    print(\"  Average training acc: {0:.3f}\".format(avg_train_acc))\n",
    "    \n",
    "    print(\"\")\n",
    "    print(\"Running Validation\")\n",
    "    \n",
    "    # Set to eval mode\n",
    "    model.eval()\n",
    "    \n",
    "    eval_loss, eval_accuracy = 0, 0\n",
    "    nb_eval_steps, nb_eval_samples = 0, 0\n",
    "    \n",
    "    for index, batch in tqdm(enumerate(eval_dataloader), total=len(eval_dataloader)):\n",
    "        input_ids = batch['ids'].to(device)\n",
    "        attn_mask = batch['mask'].to(device)\n",
    "        labels = batch['targets'].to(device)\n",
    "        \n",
    "        with torch.no_grad():\n",
    "            outputs = model(input_ids, attn_mask)\n",
    "            \n",
    "        active_loss = attn_mask.view(-1) == 1\n",
    "        active_logits = outputs.view(-1, 5)\n",
    "        active_labels = torch.where(active_loss, labels.view(-1), torch.tensor(criterion.ignore_index).type_as(labels))\n",
    "        \n",
    "        loss = criterion(active_logits, active_labels)\n",
    "        eval_loss += loss.mean().item()\n",
    "        \n",
    "        active_logits = active_logits.detach().cpu().numpy()\n",
    "        active_labels = active_labels.detach().cpu().numpy()\n",
    "        \n",
    "        eval_accuracy += (active_logits.argmax(axis=1) == active_labels).sum() / len(active_labels)\n",
    "        nb_eval_steps += 1\n",
    "        \n",
    "    eval_loss = eval_loss/nb_eval_steps\n",
    "    eval_acc = eval_accuracy/nb_eval_steps\n",
    "    print(\"Validation loss: {}\".format(eval_loss))\n",
    "    print(\"Validation Accuracy: {}\".format(eval_acc))\n",
    "    \n",
    "    eval_loss_vals.append(eval_loss)\n",
    "    eval_acc_vals.append(eval_acc)"
   ]
  },
  {
   "cell_type": "code",
   "execution_count": 18,
   "id": "peripheral-tanzania",
   "metadata": {},
   "outputs": [
    {
     "data": {
      "text/plain": [
       "[<matplotlib.lines.Line2D at 0x7fe87afe5cd0>]"
      ]
     },
     "execution_count": 18,
     "metadata": {},
     "output_type": "execute_result"
    },
    {
     "data": {
      "image/png": "[encoded data removed]",
      "text/plain": [
       "<Figure size 1080x720 with 2 Axes>"
      ]
     },
     "metadata": {
      "needs_background": "light"
     },
     "output_type": "display_data"
    }
   ],
   "source": [
    "plt.figure(figsize=(15, 10))\n",
    "\n",
    "plt.subplot(221)\n",
    "plt.title('Training Loss')\n",
    "plt.xlabel(\"Epoch\")\n",
    "plt.ylabel(\"Loss\")\n",
    "plt.plot(loss_values, 'b-o')\n",
    "plt.plot(eval_loss_vals, 'y-o')\n",
    "\n",
    "plt.subplot(222)\n",
    "plt.plot(train_acc, 'b-o')\n",
    "plt.plot(eval_acc_vals, 'y-o')"
   ]
  },
  {
   "cell_type": "code",
   "execution_count": 19,
   "id": "experimental-parent",
   "metadata": {},
   "outputs": [],
   "source": [
    "# Save model\n",
    "# model.save_pretrained('weights/ner_distil_bert_indo')\n",
    "torch.save(model, 'weights/ner_distil_indo.pt')"
   ]
  }
 ],
 "metadata": {
  "kernelspec": {
   "display_name": "Python 3",
   "language": "python",
   "name": "python3"
  },
  "language_info": {
   "codemirror_mode": {
    "name": "ipython",
    "version": 3
   },
   "file_extension": ".py",
   "mimetype": "text/x-python",
   "name": "python",
   "nbconvert_exporter": "python",
   "pygments_lexer": "ipython3",
   "version": "3.8.8"
  }
 },
 "nbformat": 4,
 "nbformat_minor": 5
}
